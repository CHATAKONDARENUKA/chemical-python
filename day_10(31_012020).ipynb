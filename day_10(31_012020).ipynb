{
  "nbformat": 4,
  "nbformat_minor": 0,
  "metadata": {
    "colab": {
      "name": "day 10(31-012020)",
      "provenance": [],
      "authorship_tag": "ABX9TyPM5gs2cWFzJAHTZOOendYi",
      "include_colab_link": true
    },
    "kernelspec": {
      "name": "python3",
      "display_name": "Python 3"
    }
  },
  "cells": [
    {
      "cell_type": "markdown",
      "metadata": {
        "id": "view-in-github",
        "colab_type": "text"
      },
      "source": [
        "<a href=\"https://colab.research.google.com/github/CHATAKONDARENUKA/chemical-python/blob/master/day_10(31_012020).ipynb\" target=\"_parent\"><img src=\"https://colab.research.google.com/assets/colab-badge.svg\" alt=\"Open In Colab\"/></a>"
      ]
    },
    {
      "cell_type": "markdown",
      "metadata": {
        "id": "gT_Dq5XwxDrJ",
        "colab_type": "text"
      },
      "source": [
        "# loops\n",
        "- while loop\n",
        "- for loop\n"
      ]
    },
    {
      "cell_type": "code",
      "metadata": {
        "id": "ui-7g3JLxMD4",
        "colab_type": "code",
        "colab": {
          "base_uri": "https://localhost:8080/",
          "height": 51
        },
        "outputId": "d884b40a-2b56-424e-b399-69f1534e5ef7"
      },
      "source": [
        "# print numbers from 1 to n\n",
        "# input 10\n",
        "# 1 2 3 4 5......10\n",
        "n = int(input(\"enter a number\"))\n",
        "i = 1\n",
        "while i <= n:\n",
        "  print(i,end = \" \")\n",
        "  i = i+1"
      ],
      "execution_count": 2,
      "outputs": [
        {
          "output_type": "stream",
          "text": [
            "enter a number10\n",
            "1 2 3 4 5 6 7 8 9 10 "
          ],
          "name": "stdout"
        }
      ]
    },
    {
      "cell_type": "code",
      "metadata": {
        "id": "nHEXSlTTz3T4",
        "colab_type": "code",
        "colab": {
          "base_uri": "https://localhost:8080/",
          "height": 51
        },
        "outputId": "9c094d21-84b3-4b48-99c3-1183b0b37db4"
      },
      "source": [
        "# print numbers from 1 to n\n",
        "# input 10\n",
        "n = int(input(\"enter a number\"))\n",
        "i = 0\n",
        "sum = 0\n",
        "while i<= n:\n",
        "      sum = sum+i\n",
        "      i = i+2\n",
        "print(sum)"
      ],
      "execution_count": 7,
      "outputs": [
        {
          "output_type": "stream",
          "text": [
            "enter a number10\n",
            "30\n"
          ],
          "name": "stdout"
        }
      ]
    },
    {
      "cell_type": "code",
      "metadata": {
        "id": "l4o6_Yew3oZS",
        "colab_type": "code",
        "colab": {
          "base_uri": "https://localhost:8080/",
          "height": 51
        },
        "outputId": "5d0f3386-d25f-4963-b669-ea3438a3e7bd"
      },
      "source": [
        "# print palindrome number\n",
        "n = int(input(\"enter number\"))\n",
        "rem=0\n",
        "num=0\n",
        "while n>0:\n",
        "  rem=n%10\n",
        "  num=num*10+rem\n",
        "  n=n//10\n",
        "print(num)\n",
        "  \n",
        "\n"
      ],
      "execution_count": 13,
      "outputs": [
        {
          "output_type": "stream",
          "text": [
            "enter number123\n",
            "321\n"
          ],
          "name": "stdout"
        }
      ]
    },
    {
      "cell_type": "markdown",
      "metadata": {
        "id": "5-vcJ0A38zrW",
        "colab_type": "text"
      },
      "source": [
        "# Functional programming\n",
        "- simple\n",
        "- easy to understand\n",
        "- better reusability\n",
        "- lengthy program will be divided in to sub programs\n"
      ]
    },
    {
      "cell_type": "code",
      "metadata": {
        "id": "FgfB3GwZ9YNW",
        "colab_type": "code",
        "colab": {}
      },
      "source": [
        "def nameofthefunction(<parameter>)\n",
        " statements\n",
        " return"
      ],
      "execution_count": 0,
      "outputs": []
    },
    {
      "cell_type": "code",
      "metadata": {
        "id": "yhzg8zqy99to",
        "colab_type": "code",
        "colab": {
          "base_uri": "https://localhost:8080/",
          "height": 34
        },
        "outputId": "c71b0beb-3d69-4832-ed87-9c68bcfcb0b7"
      },
      "source": [
        "# print sum of even numbers\n",
        "# input:1234\n",
        "# output:(2+4)=6\n",
        "def sumofevendigits(n):\n",
        "    s = 0\n",
        "    while n!= 0:\n",
        "      r = n%10\n",
        "      if r%2==0:\n",
        "        s=s+r\n",
        "      n = n//10\n",
        "    return s \n",
        "sumofevendigits(1234)"
      ],
      "execution_count": 22,
      "outputs": [
        {
          "output_type": "execute_result",
          "data": {
            "text/plain": [
              "6"
            ]
          },
          "metadata": {
            "tags": []
          },
          "execution_count": 22
        }
      ]
    },
    {
      "cell_type": "code",
      "metadata": {
        "id": "zcdclmvvClZm",
        "colab_type": "code",
        "colab": {
          "base_uri": "https://localhost:8080/",
          "height": 34
        },
        "outputId": "860ad9a1-dd55-4d98-c347-5d3b00a61488"
      },
      "source": [
        "# print the largest digit\n",
        "# input:1542\n",
        "# output:5\n",
        "def large(n):\n",
        "  prev = 0\n",
        "  next = 0\n",
        "  while n!= 0:\n",
        "    prev=next\n",
        "    next=n%10\n",
        "    if(prev>next):\n",
        "      next=prev\n",
        "    n=n//10\n",
        "  return next\n",
        "large(12345) "
      ],
      "execution_count": 27,
      "outputs": [
        {
          "output_type": "execute_result",
          "data": {
            "text/plain": [
              "5"
            ]
          },
          "metadata": {
            "tags": []
          },
          "execution_count": 27
        }
      ]
    },
    {
      "cell_type": "markdown",
      "metadata": {
        "id": "kN2a1xa-IGp1",
        "colab_type": "text"
      },
      "source": [
        "# For loop\n",
        "# syntax:\n",
        "# for in range(start,stop,step):\n",
        "#        statements\n"
      ]
    },
    {
      "cell_type": "code",
      "metadata": {
        "id": "iyXe-VaTIkko",
        "colab_type": "code",
        "colab": {}
      },
      "source": [
        "# syntax:\n",
        "for in range(start,stop,step):\n",
        "    statements"
      ],
      "execution_count": 0,
      "outputs": []
    },
    {
      "cell_type": "code",
      "metadata": {
        "id": "JFCFCwVpIzpQ",
        "colab_type": "code",
        "colab": {
          "base_uri": "https://localhost:8080/",
          "height": 34
        },
        "outputId": "124f6525-65e4-4842-d3f6-acda23c92591"
      },
      "source": [
        "# Print the numbers using function between limits\n",
        "# input:11 25\n",
        "# output:11 12 13 14 ....... 25\n",
        "def printseries(fn,ln):\n",
        " for i in range(fn,ln+1):\n",
        "  print(i,end=\" \")\n",
        " return\n",
        "printseries(11,25)\n"
      ],
      "execution_count": 28,
      "outputs": [
        {
          "output_type": "stream",
          "text": [
            "11 12 13 14 15 16 17 18 19 20 21 22 23 24 25 "
          ],
          "name": "stdout"
        }
      ]
    },
    {
      "cell_type": "code",
      "metadata": {
        "id": "18hSc2zpKifD",
        "colab_type": "code",
        "colab": {
          "base_uri": "https://localhost:8080/",
          "height": 34
        },
        "outputId": "5fe5fae1-8738-43c8-cee8-79ec9f7e4f67"
      },
      "source": [
        "# input:500,520\n",
        "# output:500'504' ..... 520\n",
        "def printseries(fn,ln):\n",
        "  for i in range(fn,ln+1,4):\n",
        "    print(i,end=\" \")\n",
        "  return\n",
        "printseries(500,520)"
      ],
      "execution_count": 30,
      "outputs": [
        {
          "output_type": "stream",
          "text": [
            "500 504 508 512 516 520 "
          ],
          "name": "stdout"
        }
      ]
    },
    {
      "cell_type": "markdown",
      "metadata": {
        "id": "M9P8g9XRMbOR",
        "colab_type": "text"
      },
      "source": [
        "# collection types\n",
        "- list\n",
        "- tuple\n",
        "- dictionary\n"
      ]
    },
    {
      "cell_type": "markdown",
      "metadata": {
        "id": "HewjhjRmMn7R",
        "colab_type": "text"
      },
      "source": [
        "# list:\n",
        "- one of the data structure in python\n",
        "- data structure means to store,sort and search options\n",
        "- its one common data structure in python,the items of list seperated by comma and enclosed by square brackets\n",
        "- in list we can change values\n",
        "- ex:\n",
        "- list1=[1,2,3,4,5]\n",
        "- list=[\"JNTUA\",\"DSAD\",\"asds\"]"
      ]
    },
    {
      "cell_type": "code",
      "metadata": {
        "id": "UIOotfdOOf46",
        "colab_type": "code",
        "colab": {
          "base_uri": "https://localhost:8080/",
          "height": 34
        },
        "outputId": "9841aca6-bb7a-4196-afc4-886a1b7a863f"
      },
      "source": [
        "li = [1,4,3,2]\n",
        "print(li)"
      ],
      "execution_count": 31,
      "outputs": [
        {
          "output_type": "stream",
          "text": [
            "[1, 4, 3, 2]\n"
          ],
          "name": "stdout"
        }
      ]
    },
    {
      "cell_type": "code",
      "metadata": {
        "id": "6JRJ0mKRPtsH",
        "colab_type": "code",
        "colab": {
          "base_uri": "https://localhost:8080/",
          "height": 51
        },
        "outputId": "0b08bf43-8e09-4037-cf81-cb5f2838c43b"
      },
      "source": [
        "li = [1,4,3,2]\n",
        "print(li[2])\n",
        "print(li[-2])"
      ],
      "execution_count": 33,
      "outputs": [
        {
          "output_type": "stream",
          "text": [
            "3\n",
            "3\n"
          ],
          "name": "stdout"
        }
      ]
    },
    {
      "cell_type": "code",
      "metadata": {
        "id": "tZiY4qelQG-q",
        "colab_type": "code",
        "colab": {
          "base_uri": "https://localhost:8080/",
          "height": 68
        },
        "outputId": "0146b242-b984-45c5-fa67-6459faf80004"
      },
      "source": [
        "li = [1,4,3,2]\n",
        "print(li[2])\n",
        "print(li[-2])\n",
        "print(li[2:])"
      ],
      "execution_count": 34,
      "outputs": [
        {
          "output_type": "stream",
          "text": [
            "3\n",
            "3\n",
            "[3, 2]\n"
          ],
          "name": "stdout"
        }
      ]
    },
    {
      "cell_type": "code",
      "metadata": {
        "id": "lKeQoqpoQW1I",
        "colab_type": "code",
        "colab": {
          "base_uri": "https://localhost:8080/",
          "height": 153
        },
        "outputId": "f3f08e52-5541-4d9c-f60a-9075c7a3c9c8"
      },
      "source": [
        "li = [1,4,3,2]\n",
        "print(li[2])\n",
        "print(li[-2])\n",
        "print(li[2:])\n",
        "print(li[2:4])\n",
        "print(li[-3:-1])\n",
        "print(li[::2])\n",
        "print(li[::3])\n",
        "print(li[::1])"
      ],
      "execution_count": 39,
      "outputs": [
        {
          "output_type": "stream",
          "text": [
            "3\n",
            "3\n",
            "[3, 2]\n",
            "[3, 2]\n",
            "[4, 3]\n",
            "[1, 3]\n",
            "[1, 2]\n",
            "[1, 4, 3, 2]\n"
          ],
          "name": "stdout"
        }
      ]
    },
    {
      "cell_type": "code",
      "metadata": {
        "id": "l2URIy5YbHeD",
        "colab_type": "code",
        "colab": {
          "base_uri": "https://localhost:8080/",
          "height": 85
        },
        "outputId": "cddb9791-cb37-4652-90f5-a6f3c1f851dd"
      },
      "source": [
        "# update list\n",
        "li = [\"JNTUA\",4,\"ANTPR\",6,3]\n",
        "print(li)\n",
        "li[1]=\"154\"\n",
        "print(li)\n",
        "li[3]=\"850\"\n",
        "print(li)\n",
        "# delete list item\n",
        "del li[2]\n",
        "print(li)"
      ],
      "execution_count": 43,
      "outputs": [
        {
          "output_type": "stream",
          "text": [
            "['JNTUA', 4, 'ANTPR', 6, 3]\n",
            "['JNTUA', '154', 'ANTPR', 6, 3]\n",
            "['JNTUA', '154', 'ANTPR', '850', 3]\n",
            "['JNTUA', '154', '850', 3]\n"
          ],
          "name": "stdout"
        }
      ]
    },
    {
      "cell_type": "code",
      "metadata": {
        "id": "7ADvZxIRc2J6",
        "colab_type": "code",
        "colab": {
          "base_uri": "https://localhost:8080/",
          "height": 85
        },
        "outputId": "f3523073-8bab-49c8-ad96-964a169105bc"
      },
      "source": [
        "# Basic list operations\n",
        "li = [1,2,3,4,5]\n",
        "print(len(li))\n",
        "print(li*2)\n",
        "print(6 in li)\n",
        "print(4 in li)"
      ],
      "execution_count": 48,
      "outputs": [
        {
          "output_type": "stream",
          "text": [
            "5\n",
            "[1, 2, 3, 4, 5, 1, 2, 3, 4, 5]\n",
            "False\n",
            "True\n"
          ],
          "name": "stdout"
        }
      ]
    },
    {
      "cell_type": "markdown",
      "metadata": {
        "id": "liTYwL3UdrQn",
        "colab_type": "text"
      },
      "source": [
        "# List functions\n",
        "- max\n",
        "- min\n",
        "- sum\n",
        "- append\n",
        "- insert\n",
        "- count\n",
        "- index\n",
        "- sort\n",
        "- pop"
      ]
    },
    {
      "cell_type": "code",
      "metadata": {
        "id": "0NnoxQSseFpk",
        "colab_type": "code",
        "colab": {
          "base_uri": "https://localhost:8080/",
          "height": 231
        },
        "outputId": "375e619e-dd1d-4a85-8efe-30a3a08c1dbc"
      },
      "source": [
        "li = [3,4,5,6,7]\n",
        "print(max(li))\n",
        "print(min(li))\n",
        "print(sum(li))"
      ],
      "execution_count": 51,
      "outputs": [
        {
          "output_type": "stream",
          "text": [
            "7\n",
            "3\n"
          ],
          "name": "stdout"
        },
        {
          "output_type": "error",
          "ename": "TypeError",
          "evalue": "ignored",
          "traceback": [
            "\u001b[0;31m---------------------------------------------------------------------------\u001b[0m",
            "\u001b[0;31mTypeError\u001b[0m                                 Traceback (most recent call last)",
            "\u001b[0;32m<ipython-input-51-42e50a985d6e>\u001b[0m in \u001b[0;36m<module>\u001b[0;34m()\u001b[0m\n\u001b[1;32m      2\u001b[0m \u001b[0mprint\u001b[0m\u001b[0;34m(\u001b[0m\u001b[0mmax\u001b[0m\u001b[0;34m(\u001b[0m\u001b[0mli\u001b[0m\u001b[0;34m)\u001b[0m\u001b[0;34m)\u001b[0m\u001b[0;34m\u001b[0m\u001b[0;34m\u001b[0m\u001b[0m\n\u001b[1;32m      3\u001b[0m \u001b[0mprint\u001b[0m\u001b[0;34m(\u001b[0m\u001b[0mmin\u001b[0m\u001b[0;34m(\u001b[0m\u001b[0mli\u001b[0m\u001b[0;34m)\u001b[0m\u001b[0;34m)\u001b[0m\u001b[0;34m\u001b[0m\u001b[0;34m\u001b[0m\u001b[0m\n\u001b[0;32m----> 4\u001b[0;31m \u001b[0mprint\u001b[0m\u001b[0;34m(\u001b[0m\u001b[0msum\u001b[0m\u001b[0;34m(\u001b[0m\u001b[0mli\u001b[0m\u001b[0;34m)\u001b[0m\u001b[0;34m)\u001b[0m\u001b[0;34m\u001b[0m\u001b[0;34m\u001b[0m\u001b[0m\n\u001b[0m",
            "\u001b[0;31mTypeError\u001b[0m: 'int' object is not callable"
          ]
        }
      ]
    }
  ]
}