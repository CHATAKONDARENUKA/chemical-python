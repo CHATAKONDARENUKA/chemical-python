{
  "nbformat": 4,
  "nbformat_minor": 0,
  "metadata": {
    "colab": {
      "name": "day 9(30-012020)",
      "provenance": [],
      "authorship_tag": "ABX9TyO1KuqXRhXpoy4CXK4TMa76",
      "include_colab_link": true
    },
    "kernelspec": {
      "name": "python3",
      "display_name": "Python 3"
    }
  },
  "cells": [
    {
      "cell_type": "markdown",
      "metadata": {
        "id": "view-in-github",
        "colab_type": "text"
      },
      "source": [
        "<a href=\"https://colab.research.google.com/github/CHATAKONDARENUKA/chemical-python/blob/master/day_9(30_012020).ipynb\" target=\"_parent\"><img src=\"https://colab.research.google.com/assets/colab-badge.svg\" alt=\"Open In Colab\"/></a>"
      ]
    },
    {
      "cell_type": "code",
      "metadata": {
        "id": "RI5RK7FH-lOw",
        "colab_type": "code",
        "colab": {}
      },
      "source": [
        ""
      ],
      "execution_count": 0,
      "outputs": []
    },
    {
      "cell_type": "markdown",
      "metadata": {
        "id": "vlKCp3yr-mlq",
        "colab_type": "text"
      },
      "source": [
        "**points**\n",
        "\n",
        "*points*\n",
        "\n",
        "## ***points***"
      ]
    },
    {
      "cell_type": "code",
      "metadata": {
        "id": "hevrUN98_xw0",
        "colab_type": "code",
        "colab": {
          "base_uri": "https://localhost:8080/",
          "height": 34
        },
        "outputId": "275e6e8c-afc8-48ce-b767-746f20dc9045"
      },
      "source": [
        "print(\"hello\")"
      ],
      "execution_count": 1,
      "outputs": [
        {
          "output_type": "stream",
          "text": [
            "hello\n"
          ],
          "name": "stdout"
        }
      ]
    },
    {
      "cell_type": "markdown",
      "metadata": {
        "id": "lyHszCYoA3kD",
        "colab_type": "text"
      },
      "source": [
        "*** Adding links to markdown***\n",
        "\n",
        "# [site](https://en.wikipedia.org/wiki/Jawaharlal_Nehru_Technological_University,_Ana"
      ]
    },
    {
      "cell_type": "markdown",
      "metadata": {
        "id": "8zRhi0WdB5gX",
        "colab_type": "text"
      },
      "source": [
        "### inserting image\n",
        "![text](https://upload.wikimedia.org/wikipedia/commons/thumb/3/31/JNTU_College_of_Engineering_Anantapur.jpg/220px-JNTU_College_of_Engineering_Anantapur.jpg)"
      ]
    },
    {
      "cell_type": "code",
      "metadata": {
        "id": "AqlNIY4hCYm5",
        "colab_type": "code",
        "colab": {
          "base_uri": "https://localhost:8080/",
          "height": 34
        },
        "outputId": "6153a76a-cb16-4c74-e734-572bc7cc06a7"
      },
      "source": [
        "print(\"hello world\")"
      ],
      "execution_count": 2,
      "outputs": [
        {
          "output_type": "stream",
          "text": [
            "hello world\n"
          ],
          "name": "stdout"
        }
      ]
    },
    {
      "cell_type": "code",
      "metadata": {
        "id": "SYF0HBbEDCNa",
        "colab_type": "code",
        "colab": {}
      },
      "source": [
        "# Variable creation\n"
      ],
      "execution_count": 0,
      "outputs": []
    },
    {
      "cell_type": "code",
      "metadata": {
        "id": "w-jF1hUOIBhr",
        "colab_type": "code",
        "colab": {
          "base_uri": "https://localhost:8080/",
          "height": 51
        },
        "outputId": "bbfdeba6-f3cd-4412-8d9c-8205b24e5aa8"
      },
      "source": [
        "print(\"hello, jntua\")\n",
        "print(\"hello , jntua\",\"|||\" ,\"chemical\",\"|||\",\"cse\",\"|||\")"
      ],
      "execution_count": 4,
      "outputs": [
        {
          "output_type": "stream",
          "text": [
            "hello, jntua\n",
            "hello , jntua ||| chemical ||| cse |||\n"
          ],
          "name": "stdout"
        }
      ]
    },
    {
      "cell_type": "code",
      "metadata": {
        "id": "iM_iRMY6IK3Q",
        "colab_type": "code",
        "colab": {}
      },
      "source": [
        ""
      ],
      "execution_count": 0,
      "outputs": []
    },
    {
      "cell_type": "markdown",
      "metadata": {
        "id": "BIn8vgxhI4YQ",
        "colab_type": "text"
      },
      "source": [
        "# Assignment\n",
        "\n"
      ]
    },
    {
      "cell_type": "code",
      "metadata": {
        "id": "cBji3kEyJARZ",
        "colab_type": "code",
        "colab": {
          "base_uri": "https://localhost:8080/",
          "height": 68
        },
        "outputId": "8e8830e2-f499-4102-e5fe-6de0b403f3d6"
      },
      "source": [
        "n1=100 # single variable assignment\n",
        "print(n1)\n",
        "a = b = c = 10 # multi variable assignment of same value\n",
        "print(a,b,c)\n",
        "a1,b1,c1 = 100,200,300 # multi variable assignment with different values\n",
        "print(a1,b1,c1)"
      ],
      "execution_count": 8,
      "outputs": [
        {
          "output_type": "stream",
          "text": [
            "100\n",
            "10 10 10\n",
            "100 200 300\n"
          ],
          "name": "stdout"
        }
      ]
    },
    {
      "cell_type": "markdown",
      "metadata": {
        "id": "0xKE-cYmKkVM",
        "colab_type": "text"
      },
      "source": [
        "# Datatypes and conversions\n",
        "* int\n",
        "* float\n",
        "* string\n"
      ]
    },
    {
      "cell_type": "code",
      "metadata": {
        "id": "2Dw7h5HPK2sa",
        "colab_type": "code",
        "colab": {
          "base_uri": "https://localhost:8080/",
          "height": 34
        },
        "outputId": "0d79e5b0-5140-4133-a9e1-a723dc037f7d"
      },
      "source": [
        "a = 100\n",
        "s1 = 10.2\n",
        "s2 = \"python\"\n",
        "print(type(a),type(s1),type(s2))"
      ],
      "execution_count": 9,
      "outputs": [
        {
          "output_type": "stream",
          "text": [
            "<class 'int'> <class 'float'> <class 'str'>\n"
          ],
          "name": "stdout"
        }
      ]
    },
    {
      "cell_type": "code",
      "metadata": {
        "id": "v7STmZnJL2BK",
        "colab_type": "code",
        "colab": {
          "base_uri": "https://localhost:8080/",
          "height": 68
        },
        "outputId": "8a123d7b-da4c-4829-c68c-87a7555af464"
      },
      "source": [
        "i = 100\n",
        "print(type(i))\n",
        "s1 = str(i)\n",
        "print(type(s1))\n",
        "f1 = float(i)\n",
        "print(type(f1))"
      ],
      "execution_count": 10,
      "outputs": [
        {
          "output_type": "stream",
          "text": [
            "<class 'int'>\n",
            "<class 'str'>\n",
            "<class 'float'>\n"
          ],
          "name": "stdout"
        }
      ]
    },
    {
      "cell_type": "code",
      "metadata": {
        "id": "2A-ONxowM0ff",
        "colab_type": "code",
        "colab": {
          "base_uri": "https://localhost:8080/",
          "height": 34
        },
        "outputId": "fa1fde50-03fc-4a06-98fa-1650d5ceb741"
      },
      "source": [
        "# length\n",
        "a = 123456\n",
        "print(len(str(a)))"
      ],
      "execution_count": 13,
      "outputs": [
        {
          "output_type": "stream",
          "text": [
            "6\n"
          ],
          "name": "stdout"
        }
      ]
    },
    {
      "cell_type": "markdown",
      "metadata": {
        "id": "Up_5Ls4xNh2Z",
        "colab_type": "text"
      },
      "source": [
        "# Reading input from user---input functions\n"
      ]
    },
    {
      "cell_type": "code",
      "metadata": {
        "id": "D3yCLCdHNp76",
        "colab_type": "code",
        "colab": {
          "base_uri": "https://localhost:8080/",
          "height": 68
        },
        "outputId": "0a96044e-690c-4ddc-99eb-9228ef945df8"
      },
      "source": [
        "a = input(\"enter your name : \")\n",
        "print(a)\n",
        "print(type(a))"
      ],
      "execution_count": 16,
      "outputs": [
        {
          "output_type": "stream",
          "text": [
            "enter your name : renuka\n",
            "renuka\n",
            "<class 'str'>\n"
          ],
          "name": "stdout"
        }
      ]
    },
    {
      "cell_type": "code",
      "metadata": {
        "id": "RCQpMgqjOlUi",
        "colab_type": "code",
        "colab": {
          "base_uri": "https://localhost:8080/",
          "height": 68
        },
        "outputId": "1d692719-16e1-4caf-8b25-6447ea60f6f7"
      },
      "source": [
        "B = int(input(\"enter your age : \"))\n",
        "print(B)\n",
        "print(type(B))\n"
      ],
      "execution_count": 17,
      "outputs": [
        {
          "output_type": "stream",
          "text": [
            "enter your age : 20\n",
            "20\n",
            "<class 'int'>\n"
          ],
          "name": "stdout"
        }
      ]
    },
    {
      "cell_type": "markdown",
      "metadata": {
        "id": "jy9bOwVwPI6Q",
        "colab_type": "text"
      },
      "source": [
        "# Operators\n",
        "- operator is a symbol used to perform a specific kind of operations\n"
      ]
    },
    {
      "cell_type": "markdown",
      "metadata": {
        "id": "Mr--gRXvPewC",
        "colab_type": "text"
      },
      "source": [
        "# Arthemetic operator\n",
        "- +\n",
        "- -\n",
        "- *\n",
        "- /\n",
        "- %\n",
        "- //\n",
        "- **"
      ]
    },
    {
      "cell_type": "code",
      "metadata": {
        "id": "noUPEcMhPv4R",
        "colab_type": "code",
        "colab": {
          "base_uri": "https://localhost:8080/",
          "height": 136
        },
        "outputId": "20e4386d-723d-4eb2-f43a-dbf53b714025"
      },
      "source": [
        "a = 1234\n",
        "print(a+10)\n",
        "print(a-10)\n",
        "print(a*10)\n",
        "print(a/10)\n",
        "print(a%10)\n",
        "print(a//10)\n",
        "print(a**10)\n"
      ],
      "execution_count": 19,
      "outputs": [
        {
          "output_type": "stream",
          "text": [
            "1244\n",
            "1224\n",
            "12340\n",
            "123.4\n",
            "4\n",
            "123\n",
            "8187505353567209228244052427776\n"
          ],
          "name": "stdout"
        }
      ]
    },
    {
      "cell_type": "markdown",
      "metadata": {
        "id": "SoDQGXXUSB4L",
        "colab_type": "text"
      },
      "source": [
        "# Relational operators\n",
        "- =\n",
        "- ==\n",
        "- !=\n",
        "- <\n",
        "- >\n",
        "- <=\n",
        "- >="
      ]
    },
    {
      "cell_type": "code",
      "metadata": {
        "id": "StThB49vSe5h",
        "colab_type": "code",
        "colab": {
          "base_uri": "https://localhost:8080/",
          "height": 34
        },
        "outputId": "9938ce0e-4e4d-49c4-888a-628848dd69e2"
      },
      "source": [
        "x = 10\n",
        "a1 = x > 15\n",
        "print(a1)"
      ],
      "execution_count": 20,
      "outputs": [
        {
          "output_type": "stream",
          "text": [
            "False\n"
          ],
          "name": "stdout"
        }
      ]
    },
    {
      "cell_type": "markdown",
      "metadata": {
        "id": "pnAO1q2STA4s",
        "colab_type": "text"
      },
      "source": [
        "# Logical operators\n",
        "- and\n",
        "- or\n",
        "- not"
      ]
    },
    {
      "cell_type": "code",
      "metadata": {
        "id": "ViDa3p9iTSwE",
        "colab_type": "code",
        "colab": {
          "base_uri": "https://localhost:8080/",
          "height": 51
        },
        "outputId": "fab1efe6-c16f-4b8f-e2ed-6784abfb5852"
      },
      "source": [
        "i = 100\n",
        "a1 = (i>15) and (i < 800)\n",
        "a2 = (i>15) and (i>800)\n",
        "print(a1)\n",
        "print(a2)"
      ],
      "execution_count": 21,
      "outputs": [
        {
          "output_type": "stream",
          "text": [
            "True\n",
            "False\n"
          ],
          "name": "stdout"
        }
      ]
    },
    {
      "cell_type": "code",
      "metadata": {
        "id": "ccgr16NXT95E",
        "colab_type": "code",
        "colab": {
          "base_uri": "https://localhost:8080/",
          "height": 51
        },
        "outputId": "939f6882-ad1c-49c4-f3a2-223698dac47c"
      },
      "source": [
        "i = 100\n",
        "a1 = (i>15) and (i<800)\n",
        "a2 = (i>15) or (i>800)\n",
        "print(a1)\n",
        "print(a2)"
      ],
      "execution_count": 22,
      "outputs": [
        {
          "output_type": "stream",
          "text": [
            "True\n",
            "True\n"
          ],
          "name": "stdout"
        }
      ]
    },
    {
      "cell_type": "code",
      "metadata": {
        "id": "ECzk3OMKUN29",
        "colab_type": "code",
        "colab": {
          "base_uri": "https://localhost:8080/",
          "height": 68
        },
        "outputId": "6b314f93-7de8-4c15-b698-7a96e940e3a6"
      },
      "source": [
        "i = 100\n",
        "a1 = (i>15) and (i<800)\n",
        "a2 = (i>15) or (i>800)\n",
        "i = not 100\n",
        "print(a1)\n",
        "print(a2)\n",
        "print(i)"
      ],
      "execution_count": 24,
      "outputs": [
        {
          "output_type": "stream",
          "text": [
            "True\n",
            "True\n",
            "False\n"
          ],
          "name": "stdout"
        }
      ]
    },
    {
      "cell_type": "markdown",
      "metadata": {
        "id": "khrh9PDbUsg5",
        "colab_type": "text"
      },
      "source": [
        "# Control flow statements\n",
        "- conditional\n",
        "- looping"
      ]
    },
    {
      "cell_type": "markdown",
      "metadata": {
        "id": "R3-mN1UdVIpt",
        "colab_type": "text"
      },
      "source": [
        "# If - else statements\n",
        "## syntax\n",
        "# if Boolean_condition\n",
        "# statements\n",
        "# else:\n",
        "# statements"
      ]
    },
    {
      "cell_type": "code",
      "metadata": {
        "id": "UzslJOFUVnaI",
        "colab_type": "code",
        "colab": {
          "base_uri": "https://localhost:8080/",
          "height": 51
        },
        "outputId": "5bf853bf-ea7c-491a-8a77-8fef2ad1f348"
      },
      "source": [
        "# To check given is even or odd\n",
        "n = int(input(\"enter a number\"))\n",
        "if n%2 == 0:\n",
        "   print(n,\"is even number\")\n",
        "else:\n",
        "   print(n,\"is odd number\")"
      ],
      "execution_count": 31,
      "outputs": [
        {
          "output_type": "stream",
          "text": [
            "enter a number50\n",
            "50 is even number\n"
          ],
          "name": "stdout"
        }
      ]
    },
    {
      "cell_type": "code",
      "metadata": {
        "id": "MYHozeJ4W-FR",
        "colab_type": "code",
        "colab": {
          "base_uri": "https://localhost:8080/",
          "height": 51
        },
        "outputId": "b43a744e-37a8-4cc8-edb1-af475c87a7d8"
      },
      "source": [
        "# To check given number is perfectly multiples of 3 and 5\n",
        "n = int(input(\"enter a number\"))\n",
        "if n%3 == 0 and n%5 == 0:\n",
        "  print(n,\"is multiple of 3 and 5\")\n",
        "else:\n",
        "  print(n,\"is not multiple of 3 and 5\")"
      ],
      "execution_count": 35,
      "outputs": [
        {
          "output_type": "stream",
          "text": [
            "enter a number30\n",
            "30 is multiple of 3 and 5\n"
          ],
          "name": "stdout"
        }
      ]
    },
    {
      "cell_type": "code",
      "metadata": {
        "id": "o5oWQZmWZihm",
        "colab_type": "code",
        "colab": {
          "base_uri": "https://localhost:8080/",
          "height": 51
        },
        "outputId": "1735a226-d60f-404b-9cde-6214336fe3e0"
      },
      "source": [
        "# To check given number is +ve,-ve or zero\n",
        "n = int(input(\"enter a number\"))\n",
        "if n>0:\n",
        "  print(n, \"n is positive number\")\n",
        "else:\n",
        "  print(n, \"n is negative number\")\n",
        "  "
      ],
      "execution_count": 39,
      "outputs": [
        {
          "output_type": "stream",
          "text": [
            "enter a number10\n",
            "10 n is positive number\n"
          ],
          "name": "stdout"
        }
      ]
    },
    {
      "cell_type": "code",
      "metadata": {
        "id": "wty7aX-3aSfA",
        "colab_type": "code",
        "colab": {
          "base_uri": "https://localhost:8080/",
          "height": 85
        },
        "outputId": "b4a74b41-d013-457d-8a82-74e4f497dec9"
      },
      "source": [
        "# To check which number is greatest among the three numbers\n",
        "n = int(input(\"enter n\"))\n",
        "n1 = int(input(\"enter n1\"))\n",
        "n2 = int(input(\"enter n2\"))\n",
        "if (n>n1 and n>n2):\n",
        "  print(n, \"n is greatest\")\n",
        "elif(n1>n and n1>n2):\n",
        "  print(n, \"n1 is greatest\")\n",
        "else:\n",
        "  print(n, \"n2 is greatest\")"
      ],
      "execution_count": 43,
      "outputs": [
        {
          "output_type": "stream",
          "text": [
            "enter n2\n",
            "enter n13\n",
            "enter n24\n",
            "2 n2 is greatest\n"
          ],
          "name": "stdout"
        }
      ]
    },
    {
      "cell_type": "code",
      "metadata": {
        "id": "n3qdb4LfdX7Q",
        "colab_type": "code",
        "colab": {
          "base_uri": "https://localhost:8080/",
          "height": 51
        },
        "outputId": "42a28dbc-4178-47a3-a797-72d026551ea2"
      },
      "source": [
        "# to check given year is leap year or not\n",
        "n = int(input(\"enter a year\"))\n",
        "if (n%4 == 0 and n%400 == 0):\n",
        "  print(\"n is a leap year\")\n",
        "else:\n",
        "  print(\"n is not a leap year\")"
      ],
      "execution_count": 46,
      "outputs": [
        {
          "output_type": "stream",
          "text": [
            "enter a year2020\n",
            "n is not a leap year\n"
          ],
          "name": "stdout"
        }
      ]
    }
  ]
}