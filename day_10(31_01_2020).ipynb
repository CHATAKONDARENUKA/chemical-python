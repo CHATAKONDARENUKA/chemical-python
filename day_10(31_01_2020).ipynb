{
  "nbformat": 4,
  "nbformat_minor": 0,
  "metadata": {
    "colab": {
      "name": "day 10(31-01-2020)",
      "provenance": [],
      "authorship_tag": "ABX9TyPRZx77Snwivc5xCfgTxgfY",
      "include_colab_link": true
    },
    "kernelspec": {
      "name": "python3",
      "display_name": "Python 3"
    }
  },
  "cells": [
    {
      "cell_type": "markdown",
      "metadata": {
        "id": "view-in-github",
        "colab_type": "text"
      },
      "source": [
        "<a href=\"https://colab.research.google.com/github/CHATAKONDARENUKA/chemical-python/blob/master/day_10(31_01_2020).ipynb\" target=\"_parent\"><img src=\"https://colab.research.google.com/assets/colab-badge.svg\" alt=\"Open In Colab\"/></a>"
      ]
    },
    {
      "cell_type": "code",
      "metadata": {
        "id": "-7GK1AQxfnwo",
        "colab_type": "code",
        "colab": {
          "base_uri": "https://localhost:8080/",
          "height": 85
        },
        "outputId": "e89dd51f-bccb-4680-d0b6-e7f898e2e95d"
      },
      "source": [
        "li = [3,4,5,6,7]\n",
        "print(max(li))\n",
        "print(min(li))\n",
        "print(sum(li))\n",
        "print(sum(li)/len(li))\n"
      ],
      "execution_count": 2,
      "outputs": [
        {
          "output_type": "stream",
          "text": [
            "7\n",
            "3\n",
            "25\n",
            "5.0\n"
          ],
          "name": "stdout"
        }
      ]
    },
    {
      "cell_type": "code",
      "metadata": {
        "id": "8Dhj7f3LgSBk",
        "colab_type": "code",
        "colab": {
          "base_uri": "https://localhost:8080/",
          "height": 68
        },
        "outputId": "dc727b74-5de9-4147-dfb7-14ab2e0e4ab8"
      },
      "source": [
        "li = [3,4,5,6,7]\n",
        "#li.append(50)\n",
        "print(li)\n",
        "li.insert(2,26)\n",
        "print(li)\n",
        "li.count(5)\n",
        "li.index(4)\n",
        "print(li)"
      ],
      "execution_count": 13,
      "outputs": [
        {
          "output_type": "stream",
          "text": [
            "[3, 4, 5, 6, 7]\n",
            "[3, 4, 26, 5, 6, 7]\n",
            "[3, 4, 26, 5, 6, 7]\n"
          ],
          "name": "stdout"
        }
      ]
    },
    {
      "cell_type": "code",
      "metadata": {
        "id": "93uBieWFhSLN",
        "colab_type": "code",
        "colab": {
          "base_uri": "https://localhost:8080/",
          "height": 34
        },
        "outputId": "c4933d56-1a45-4bb2-9164-4fb941bd0b8c"
      },
      "source": [
        "li = [7,2,3,6,5]\n",
        "#li.sort()\n",
        "li.pop(2)\n",
        "print(li)"
      ],
      "execution_count": 21,
      "outputs": [
        {
          "output_type": "stream",
          "text": [
            "[7, 2, 6, 5]\n"
          ],
          "name": "stdout"
        }
      ]
    },
    {
      "cell_type": "code",
      "metadata": {
        "id": "zr142TYeinQf",
        "colab_type": "code",
        "colab": {
          "base_uri": "https://localhost:8080/",
          "height": 51
        },
        "outputId": "3b6e347a-b2c7-4d17-d524-2950ea9305e0"
      },
      "source": [
        "# using function return large number from the list\n",
        "def largenumber(li):\n",
        "  li.sort()\n",
        "  return li[-1]\n",
        "def genericlarge(li,n):\n",
        "  li.sort()\n",
        "  return li[-n]\n",
        "li = [13,2,43,50,19,26,42]\n",
        "print(largenumber(li))\n",
        "print(genericlarge(li,3))"
      ],
      "execution_count": 16,
      "outputs": [
        {
          "output_type": "stream",
          "text": [
            "50\n",
            "42\n"
          ],
          "name": "stdout"
        }
      ]
    },
    {
      "cell_type": "code",
      "metadata": {
        "id": "PY_lenwpk3ut",
        "colab_type": "code",
        "colab": {
          "base_uri": "https://localhost:8080/",
          "height": 51
        },
        "outputId": "32ce7107-4628-4338-f664-534384b689fc"
      },
      "source": [
        "def smallnumber(li):\n",
        "  li.sort()\n",
        "  return li[0]\n",
        "def genericsmall(li,n):\n",
        "  li.sort()\n",
        "  return li[n]\n",
        "li = [13,2,43,50,19,26,42]\n",
        "print(smallnumber(li))\n",
        "print(genericsmall(li,2))"
      ],
      "execution_count": 19,
      "outputs": [
        {
          "output_type": "stream",
          "text": [
            "2\n",
            "19\n"
          ],
          "name": "stdout"
        }
      ]
    },
    {
      "cell_type": "markdown",
      "metadata": {
        "id": "W7k2zt78m1Gc",
        "colab_type": "text"
      },
      "source": [
        "# Tuples\n",
        "- parenthesis() -->tuple and square"
      ]
    }
  ]
}